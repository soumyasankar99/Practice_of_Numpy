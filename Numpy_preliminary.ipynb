{
  "nbformat": 4,
  "nbformat_minor": 0,
  "metadata": {
    "colab": {
      "provenance": [],
      "authorship_tag": "ABX9TyN63PrPTAHm91Li04z5tsSP",
      "include_colab_link": true
    },
    "kernelspec": {
      "name": "python3",
      "display_name": "Python 3"
    },
    "language_info": {
      "name": "python"
    }
  },
  "cells": [
    {
      "cell_type": "markdown",
      "metadata": {
        "id": "view-in-github",
        "colab_type": "text"
      },
      "source": [
        "<a href=\"https://colab.research.google.com/github/soumyasankar99/Practice_of_Numpy/blob/main/Numpy_preliminary.ipynb\" target=\"_parent\"><img src=\"https://colab.research.google.com/assets/colab-badge.svg\" alt=\"Open In Colab\"/></a>"
      ]
    },
    {
      "cell_type": "markdown",
      "source": [
        "![download (5).png](data:image/png;base64,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)"
      ],
      "metadata": {
        "id": "mexVDqqH01bM"
      }
    },
    {
      "cell_type": "markdown",
      "source": [
        "#Numpy: A Detailed Description and Application with Corresponding Code"
      ],
      "metadata": {
        "id": "Sms-CXC7tWIJ"
      }
    },
    {
      "cell_type": "markdown",
      "source": [
        "## Introduction to Numpy"
      ],
      "metadata": {
        "id": "LIaFGklQtZei"
      }
    },
    {
      "cell_type": "markdown",
      "source": [
        "Numpy is a fundamental Python library for numerical and scientific computing.\n",
        "\n",
        "It stands for \"Numerical Python\" and is a powerful package that provides support for large, multi-dimensional arrays and matrices, along with a wide range of mathematical functions to operate on these arrays efficiently.\n",
        "\n",
        "Numpy is an essential tool for data manipulation, analysis, and scientific computing in Python."
      ],
      "metadata": {
        "id": "yY5mXdWotft7"
      }
    },
    {
      "cell_type": "markdown",
      "source": [
        "Key features of Numpy include:"
      ],
      "metadata": {
        "id": "cMpQG57htp_A"
      }
    },
    {
      "cell_type": "markdown",
      "source": [
        "###Multi-dimensional Arrays: ⛓\n",
        "\n",
        "Numpy's primary data structure is the ndarray (N-dimensional array), which allows you to create arrays of various shapes and sizes, from 1D arrays (vectors) to 2D arrays (matrices) and beyond."
      ],
      "metadata": {
        "id": "eWk9p0jjtwEt"
      }
    },
    {
      "cell_type": "markdown",
      "source": [
        "###Efficient Element-wise Operations: ❎\n",
        "\n",
        "Numpy provides a wide range of mathematical and logical operations that can be applied element-wise to arrays. These operations are implemented in highly optimized C code, making them much faster than equivalent Python loops"
      ],
      "metadata": {
        "id": "O454JTlzt-ha"
      }
    },
    {
      "cell_type": "markdown",
      "source": [
        "###Broadcasting: ⏯\n",
        "\n",
        "Numpy allows for automatic broadcasting, which enables operations between arrays of different shapes to be performed efficiently and without the need for explicit loops."
      ],
      "metadata": {
        "id": "Yj4yCDPnuJm6"
      }
    },
    {
      "cell_type": "markdown",
      "source": [
        "###Integration with Other Libraries: ⚡\n",
        "\n",
        "Numpy is often used in conjunction with other Python libraries, such as SciPy (for scientific computing), Matplotlib (for data visualization), and pandas (for data manipulation and analysis)."
      ],
      "metadata": {
        "id": "expemYmQuS7F"
      }
    },
    {
      "cell_type": "markdown",
      "source": [
        "###Linear Algebra: ⏰\n",
        "\n",
        "Numpy includes linear algebra functions for tasks like matrix multiplication, eigenvalue calculations, and solving linear systems of equations."
      ],
      "metadata": {
        "id": "tzxauJTPuWuK"
      }
    },
    {
      "cell_type": "markdown",
      "source": [
        "###Random Number Generation: ♈\n",
        "\n",
        "It offers a comprehensive random number generation library for generating random data and simulating various statistical distributions."
      ],
      "metadata": {
        "id": "vm_cYEmfubYp"
      }
    },
    {
      "cell_type": "markdown",
      "source": [
        "###File I/O: ♒\n",
        "\n",
        "Numpy supports reading and writing data to and from files, making it easy to work with data in various formats, including text, CSV, and binary files."
      ],
      "metadata": {
        "id": "k7VNYpgaugsF"
      }
    },
    {
      "cell_type": "markdown",
      "source": [
        "## Application of Numpy ⚓\n",
        "_________________________"
      ],
      "metadata": {
        "id": "EfZ4GNPsvIij"
      }
    },
    {
      "cell_type": "markdown",
      "source": [
        "###1. Data Analysis and Manipulation:\n",
        "\n",
        "Numpy is often used for data preprocessing and manipulation tasks, such as data cleaning, filtering, aggregation, and transformation.\n",
        "\n",
        "It serves as the backbone of other data-centric libraries like pandas.\n"
      ],
      "metadata": {
        "id": "Fw2CZJ7ovR0p"
      }
    },
    {
      "cell_type": "code",
      "execution_count": 1,
      "metadata": {
        "colab": {
          "base_uri": "https://localhost:8080/"
        },
        "id": "yXjkFzRkrnbS",
        "outputId": "fbd7ecea-3734-45e8-c0d9-02893be98052"
      },
      "outputs": [
        {
          "output_type": "stream",
          "name": "stdout",
          "text": [
            "Mean: 55.0\n",
            "Median: 55.0\n",
            "Standard Deviation: 28.722813232690143\n",
            "Filtered Data (Values > Mean): [ 60  70  80  90 100]\n",
            "Modified Data (Values < Median set to 0): [  0   0   0   0   0  60  70  80  90 100]\n"
          ]
        }
      ],
      "source": [
        "#Example\n",
        "\n",
        "import numpy as np\n",
        "\n",
        "# Sample dataset\n",
        "data = np.array([10, 20, 30, 40, 50, 60, 70, 80, 90, 100])\n",
        "\n",
        "# Calculate the mean of the dataset\n",
        "mean = np.mean(data)\n",
        "print(\"Mean:\", mean)\n",
        "\n",
        "# Calculate the median of the dataset\n",
        "median = np.median(data)\n",
        "print(\"Median:\", median)\n",
        "\n",
        "# Calculate the standard deviation of the dataset\n",
        "std_dev = np.std(data)\n",
        "print(\"Standard Deviation:\", std_dev)\n",
        "\n",
        "# Filter the dataset to select values greater than the mean\n",
        "filtered_data = data[data > mean]\n",
        "print(\"Filtered Data (Values > Mean):\", filtered_data)\n",
        "\n",
        "# Replace values in the dataset that are less than the median with a specific value (e.g., 0)\n",
        "data[data < median] = 0\n",
        "print(\"Modified Data (Values < Median set to 0):\", data)\n"
      ]
    },
    {
      "cell_type": "markdown",
      "source": [
        "###2. Scientific Computing: ❌\n",
        "\n",
        "Scientists and researchers use Numpy for numerical simulations, solving differential equations, image processing, and various scientific computations.\n",
        "\n",
        "It provides the necessary tools for conducting experiments and analyzing results."
      ],
      "metadata": {
        "id": "iu2QBalqwBZi"
      }
    },
    {
      "cell_type": "markdown",
      "source": [
        "Numpy is widely used in scientific computing for tasks like numerical simulations, solving differential equations, and performing mathematical operations.\n",
        "\n",
        "Here's a simple Numpy code example for solving a numerical integration problem using the trapezoidal rule.\n"
      ],
      "metadata": {
        "id": "B27MH89Qwbke"
      }
    },
    {
      "cell_type": "code",
      "source": [
        "import numpy as np\n",
        "\n",
        "#Define the function to be integrated\n",
        "def f(x):\n",
        "  return x**2\n",
        "#Define itegration limits and number of intervals\n",
        "a=0\n",
        "b=2\n",
        "n=1000 #no of intervals\n",
        "\n",
        "#Generate an array of equally spaced points\n",
        "x_values = np.linspace(a,b, n+1)\n",
        "\n",
        "#Calculate the width of each interval\n",
        "h = (b-a)/n\n",
        "\n",
        "#Calculate the integral using the trapezoidal rule\n",
        "integral = 0.5 * h * (f(a) + f(b)) + h*np.sum(f(x_values[1:-1]))\n",
        "\n",
        "print(\"Approximate Integral:\", integral)"
      ],
      "metadata": {
        "colab": {
          "base_uri": "https://localhost:8080/"
        },
        "id": "N2PQgfNTtStQ",
        "outputId": "0b6a507b-88c5-4fcb-935b-da745ced8db1"
      },
      "execution_count": 3,
      "outputs": [
        {
          "output_type": "stream",
          "name": "stdout",
          "text": [
            "Approximate Integral: 2.6666679999999996\n"
          ]
        }
      ]
    },
    {
      "cell_type": "markdown",
      "source": [
        "###3. Machine Learning and Artificial Intelligence: ⛹\n",
        "\n",
        "\n",
        "In machine learning, Numpy is employed for data preprocessing, feature engineering, and implementing mathematical operations involved in algorithms like gradient descent.\n",
        "\n",
        "Many machine learning frameworks, such as TensorFlow and PyTorch, internally use Numpy arrays."
      ],
      "metadata": {
        "id": "yYPf6rjGyJ8c"
      }
    },
    {
      "cell_type": "markdown",
      "source": [
        "Numpy is a fundamental library used in Machine Learning and Artificial Intelligence (AI) for data manipulation, mathematical operations, and handling multidimensional arrays.\n",
        "\n",
        "Here's a simple Numpy code example for creating synthetic data and performing a linear regression using gradient descent, a basic machine learning algorithm:"
      ],
      "metadata": {
        "id": "Z8Sqvm3VyzLY"
      }
    },
    {
      "cell_type": "code",
      "source": [
        "import numpy as np\n",
        "import matplotlib.pyplot as plt\n",
        "\n",
        "# Generate synthetic data\n",
        "np.random.seed(0)\n",
        "X = 2 * np.random.rand(100, 1)\n",
        "y = 4 + 3 * X + np.random.randn(100, 1)\n",
        "\n",
        "# Initialize model parameters\n",
        "theta = np.random.randn(2, 1)  # Initialize weights randomly\n",
        "learning_rate = 0.1\n",
        "n_iterations = 1000\n",
        "\n",
        "# Add a bias term (x_0) to the feature matrix\n",
        "X_b = np.c_[np.ones((100, 1)), X]\n",
        "\n",
        "# Perform gradient descent to train the linear regression model\n",
        "for iteration in range(n_iterations):\n",
        "    gradients = -2/100 * X_b.T.dot(y - X_b.dot(theta))\n",
        "    theta -= learning_rate * gradients\n",
        "\n",
        "# Print the learned model parameters\n",
        "print(\"Learned Model Parameters:\")\n",
        "print(\"Intercept (theta_0):\", theta[0][0])\n",
        "print(\"Slope (theta_1):\", theta[1][0])\n",
        "\n",
        "# Plot the synthetic data and the learned regression line\n",
        "plt.scatter(X, y)\n",
        "plt.plot(X, X_b.dot(theta), color='red', linewidth=3)\n",
        "plt.xlabel(\"X\")\n",
        "plt.ylabel(\"y\")\n",
        "plt.title(\"Linear Regression with Numpy\")\n",
        "plt.show()\n"
      ],
      "metadata": {
        "colab": {
          "base_uri": "https://localhost:8080/",
          "height": 524
        },
        "id": "r1qeMUIPy66-",
        "outputId": "edec120d-5ce4-48af-d487-1cd14f388ff9"
      },
      "execution_count": 4,
      "outputs": [
        {
          "output_type": "stream",
          "name": "stdout",
          "text": [
            "Learned Model Parameters:\n",
            "Intercept (theta_0): 4.222151077447219\n",
            "Slope (theta_1): 2.968467510701028\n"
          ]
        },
        {
          "output_type": "display_data",
          "data": {
            "text/plain": [
              "<Figure size 640x480 with 1 Axes>"
            ],
            "image/png": "[encoded data removed]"
          },
          "metadata": {}
        }
      ]
    },
    {
      "cell_type": "markdown",
      "source": [
        "###4. Signal Processing and Image Analysis:  ⏳\n",
        "Numpy facilitates the manipulation and analysis of signals and images. It is crucial in fields like image processing, computer vision, and audio signal processing."
      ],
      "metadata": {
        "id": "A_UIj6bIySJC"
      }
    },
    {
      "cell_type": "markdown",
      "source": [
        "Numpy is often used in signal processing and image analysis for tasks such as filtering, transformations, and basic image manipulations.\n",
        "\n",
        "Here's a simple Numpy code example for performing a 2D convolution operation on an image:"
      ],
      "metadata": {
        "id": "Ui-1sM0BzSlr"
      }
    },
    {
      "cell_type": "code",
      "source": [
        "import numpy as np\n",
        "import matplotlib.pyplot as plt\n",
        "from scipy.signal import convolve2d\n",
        "from PIL import Image\n",
        "\n",
        "# Load an image\n",
        "image = Image.open(\"example.jpg\")\n",
        "image = np.array(image)\n",
        "\n",
        "# Define a 2D kernel for convolution\n",
        "kernel = np.array([[1, 1, 1],\n",
        "                   [1, -8, 1],\n",
        "                   [1, 1, 1]])\n",
        "\n",
        "# Perform 2D convolution using numpy's convolve2d\n",
        "convolved_image = convolve2d(image, kernel, mode='same', boundary='wrap')\n",
        "\n",
        "# Normalize the pixel values for display\n",
        "convolved_image = (convolved_image - np.min(convolved_image)) / (np.max(convolved_image) - np.min(convolved_image))\n",
        "\n",
        "# Display the original and convolved images\n",
        "plt.figure(figsize=(10, 5))\n",
        "plt.subplot(1, 2, 1)\n",
        "plt.imshow(image, cmap='gray')\n",
        "plt.title(\"Original Image\")\n",
        "plt.axis('off')\n",
        "\n",
        "plt.subplot(1, 2, 2)\n",
        "plt.imshow(convolved_image, cmap='gray')\n",
        "plt.title(\"Convolved Image\")\n",
        "plt.axis('off')\n",
        "\n",
        "plt.show()\n"
      ],
      "metadata": {
        "id": "qz0JMv0uzNRF"
      },
      "execution_count": null,
      "outputs": []
    },
    {
      "cell_type": "markdown",
      "source": [
        "###5. Finance and Economics:  ⛳\n",
        "\n",
        "In finance and economics, Numpy is used for tasks such as risk analysis, portfolio optimization, and econometric modeling.\n",
        "\n",
        "It helps in managing and analyzing large datasets of financial data efficiently."
      ],
      "metadata": {
        "id": "AGQR_WxByYuk"
      }
    },
    {
      "cell_type": "markdown",
      "source": [
        "Numpy can be used in finance and economics for various calculations, including portfolio optimization, risk analysis, and econometric modeling.\n",
        "\n",
        "\n",
        "Here's a simple Numpy code example for calculating the expected return and risk of a portfolio of assets:"
      ],
      "metadata": {
        "id": "qgpI_qtvzxBO"
      }
    },
    {
      "cell_type": "code",
      "source": [
        "import numpy as np\n",
        "\n",
        "# Define asset returns and weights\n",
        "asset_returns = np.array([0.08, 0.12, 0.15, 0.10])  # Example annual returns of four assets\n",
        "weights = np.array([0.25, 0.30, 0.20, 0.25])  # Portfolio weights\n",
        "\n",
        "# Calculate the expected return of the portfolio\n",
        "expected_return = np.sum(weights * asset_returns)\n",
        "print(\"Expected Portfolio Return:\", expected_return)\n",
        "\n",
        "# Define the covariance matrix of asset returns\n",
        "cov_matrix = np.array([[0.04, 0.03, 0.02, 0.01],\n",
        "                       [0.03, 0.05, 0.025, 0.015],\n",
        "                       [0.02, 0.025, 0.06, 0.02],\n",
        "                       [0.01, 0.015, 0.02, 0.04]])\n",
        "\n",
        "# Calculate the portfolio variance\n",
        "portfolio_variance = np.dot(weights.T, np.dot(cov_matrix, weights))\n",
        "print(\"Portfolio Variance:\", portfolio_variance)\n",
        "\n",
        "# Calculate the portfolio standard deviation (risk)\n",
        "portfolio_std_dev = np.sqrt(portfolio_variance)\n",
        "print(\"Portfolio Standard Deviation (Risk):\", portfolio_std_dev)\n"
      ],
      "metadata": {
        "colab": {
          "base_uri": "https://localhost:8080/"
        },
        "id": "mvlUN69NtSwR",
        "outputId": "4abc9fbd-cebd-4844-b67d-5dfadeb95456"
      },
      "execution_count": 5,
      "outputs": [
        {
          "output_type": "stream",
          "name": "stdout",
          "text": [
            "Expected Portfolio Return: 0.11099999999999999\n",
            "Portfolio Variance: 0.0269\n",
            "Portfolio Standard Deviation (Risk): 0.16401219466856726\n"
          ]
        }
      ]
    },
    {
      "cell_type": "code",
      "source": [],
      "metadata": {
        "id": "ZJN0M4VLtSzd"
      },
      "execution_count": null,
      "outputs": []
    },
    {
      "cell_type": "code",
      "source": [],
      "metadata": {
        "id": "PMDuFGyFtS3I"
      },
      "execution_count": null,
      "outputs": []
    }
  ]
}